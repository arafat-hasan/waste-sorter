{
  "nbformat": 4,
  "nbformat_minor": 0,
  "metadata": {
    "kernelspec": {
      "language": "python",
      "display_name": "Python 3",
      "name": "python3"
    },
    "language_info": {
      "pygments_lexer": "ipython3",
      "nbconvert_exporter": "python",
      "version": "3.6.4",
      "file_extension": ".py",
      "codemirror_mode": {
        "name": "ipython",
        "version": 3
      },
      "name": "python",
      "mimetype": "text/x-python"
    },
    "colab": {
      "name": "waste-sorter.ipynb",
      "provenance": [],
      "collapsed_sections": [],
      "include_colab_link": true
    },
    "accelerator": "GPU"
  },
  "cells": [
    {
      "cell_type": "markdown",
      "metadata": {
        "id": "view-in-github",
        "colab_type": "text"
      },
      "source": [
        "<a href=\"https://colab.research.google.com/github/arafat-hasan/waste-sorter/blob/master/two-classes/waste_sorter.ipynb\" target=\"_parent\"><img src=\"https://colab.research.google.com/assets/colab-badge.svg\" alt=\"Open In Colab\"/></a>"
      ]
    },
    {
      "cell_type": "code",
      "metadata": {
        "trusted": true,
        "id": "98wzouFGIBi3",
        "colab_type": "code",
        "colab": {}
      },
      "source": [
        "!date"
      ],
      "execution_count": 0,
      "outputs": []
    },
    {
      "cell_type": "code",
      "metadata": {
        "trusted": true,
        "id": "_mlEYWCbIBjF",
        "colab_type": "code",
        "colab": {}
      },
      "source": [
        "!pip install torchviz\n",
        "!pip install livelossplot"
      ],
      "execution_count": 0,
      "outputs": []
    },
    {
      "cell_type": "markdown",
      "metadata": {
        "id": "b3bu-QvrIBjU",
        "colab_type": "text"
      },
      "source": [
        "#### modeling pipeline:\n",
        "\n",
        "1. Download and extract the images\n",
        "2. Organize the images into different folders\n",
        "3. Train model\n",
        "4. Make and evaluate test predictions\n",
        "5. Next steps"
      ]
    },
    {
      "cell_type": "code",
      "metadata": {
        "trusted": true,
        "id": "0Q71VQUbIBjV",
        "colab_type": "code",
        "colab": {}
      },
      "source": [
        "%reload_ext autoreload\n",
        "%autoreload 2\n",
        "%matplotlib inline\n",
        "\n",
        "%config InlineBackend.figure_format = 'retina'"
      ],
      "execution_count": 0,
      "outputs": []
    },
    {
      "cell_type": "code",
      "metadata": {
        "trusted": true,
        "id": "JMNNgLPxIBjf",
        "colab_type": "code",
        "colab": {}
      },
      "source": [
        "from fastai.vision import *\n",
        "from fastai.metrics import error_rate\n",
        "from pathlib import Path\n",
        "from glob2 import glob\n",
        "from sklearn.metrics import confusion_matrix\n",
        "\n",
        "import pandas as pd\n",
        "import numpy as np\n",
        "import os\n",
        "import zipfile as zf\n",
        "import shutil\n",
        "import re\n",
        "import seaborn as sns"
      ],
      "execution_count": 0,
      "outputs": []
    },
    {
      "cell_type": "markdown",
      "metadata": {
        "id": "Pu8hgTlCIBjn",
        "colab_type": "text"
      },
      "source": [
        "## 1. Extract data"
      ]
    },
    {
      "cell_type": "code",
      "metadata": {
        "trusted": true,
        "id": "JQRGkJ8PIBjq",
        "colab_type": "code",
        "colab": {}
      },
      "source": [
        "!wget https://github.com/garythung/trashnet/raw/master/data/dataset-resized.zip"
      ],
      "execution_count": 0,
      "outputs": []
    },
    {
      "cell_type": "markdown",
      "metadata": {
        "id": "32jFruUUIBjy",
        "colab_type": "text"
      },
      "source": [
        "First, we need to extract the contents of \"dataset-resized.zip\"."
      ]
    },
    {
      "cell_type": "code",
      "metadata": {
        "trusted": true,
        "id": "mADM_B6cIBj0",
        "colab_type": "code",
        "colab": {}
      },
      "source": [
        "!ls -la\n",
        "!pwd"
      ],
      "execution_count": 0,
      "outputs": []
    },
    {
      "cell_type": "code",
      "metadata": {
        "trusted": true,
        "id": "yI66E-_yIBj8",
        "colab_type": "code",
        "colab": {}
      },
      "source": [
        "files = zf.ZipFile(\"dataset-resized.zip\",'r')\n",
        "files.extractall()\n",
        "files.close()"
      ],
      "execution_count": 0,
      "outputs": []
    },
    {
      "cell_type": "markdown",
      "metadata": {
        "id": "tLnM__KKIBkB",
        "colab_type": "text"
      },
      "source": [
        "Once unzipped, the dataset-resized folder has six subfolders:\n",
        "\n",
        "&nbsp;&nbsp;&nbsp;&nbsp; /dataset-resized <br>\n",
        "&nbsp;&nbsp;&nbsp;&nbsp;&nbsp;&nbsp;&nbsp;&nbsp;    /cardboard <br>\n",
        "&nbsp;&nbsp;&nbsp;&nbsp;&nbsp;&nbsp;&nbsp;&nbsp;    /glass <br>\n",
        "&nbsp;&nbsp;&nbsp;&nbsp;&nbsp;&nbsp;&nbsp;&nbsp;    /metal <br>\n",
        "&nbsp;&nbsp;&nbsp;&nbsp;&nbsp;&nbsp;&nbsp;&nbsp;    /paper <br>\n",
        "&nbsp;&nbsp;&nbsp;&nbsp;&nbsp;&nbsp;&nbsp;&nbsp;    /plastic <br>\n",
        "&nbsp;&nbsp;&nbsp;&nbsp;&nbsp;&nbsp;&nbsp;&nbsp;    /trash <br>\n"
      ]
    },
    {
      "cell_type": "code",
      "metadata": {
        "trusted": true,
        "id": "pFlxUqJGIBkD",
        "colab_type": "code",
        "colab": {}
      },
      "source": [
        "os.listdir(os.path.join(os.getcwd(),\"dataset-resized\"))"
      ],
      "execution_count": 0,
      "outputs": []
    },
    {
      "cell_type": "markdown",
      "metadata": {
        "colab_type": "text",
        "id": "zTV6WiKYKVBM"
      },
      "source": [
        "Now, We will create two directory in side dataset-resized named `digestible` and `indigestible`. After that, we have to move all images from `trash` directory to `digestible` directory and all images from rest other five directories to `indigestible` directory. And then we have to delete the empty six directories.\n",
        "\n",
        "&nbsp;&nbsp;&nbsp;&nbsp; /dataset-resized <br>\n",
        "&nbsp;&nbsp;&nbsp;&nbsp;&nbsp;&nbsp;&nbsp;&nbsp;    /digestible <br>\n",
        "&nbsp;&nbsp;&nbsp;&nbsp;&nbsp;&nbsp;&nbsp;&nbsp;    /indigestible <br>\n",
        "\n"
      ]
    },
    {
      "cell_type": "code",
      "metadata": {
        "trusted": true,
        "id": "B1JDuN9uIBkK",
        "colab_type": "code",
        "colab": {}
      },
      "source": [
        "!rm dataset-resized.zip\n",
        "!ls -la /content\n",
        "!mkdir /content/dataset-resized/digestible/ /content/dataset-resized/indigestible/\n",
        "!ls -la /content/dataset-resized/"
      ],
      "execution_count": 0,
      "outputs": []
    },
    {
      "cell_type": "code",
      "metadata": {
        "trusted": true,
        "id": "sSvz3zgmIBkR",
        "colab_type": "code",
        "colab": {}
      },
      "source": [
        "!mv /content/dataset-resized/cardboard/* /content/dataset-resized/indigestible/\n",
        "!mv /content/dataset-resized/glass/* /content/dataset-resized/indigestible/\n",
        "!mv /content/dataset-resized/metal/* /content/dataset-resized/indigestible/\n",
        "!mv /content/dataset-resized/paper/* /content/dataset-resized/indigestible/\n",
        "!mv /content/dataset-resized/plastic/* /content/dataset-resized/indigestible/\n",
        "!mv /content/dataset-resized/trash/* /content/dataset-resized/digestible/\n",
        "\n",
        "!rm -r /content/dataset-resized/cardboard/\n",
        "!rm -r /content/dataset-resized/glass/\n",
        "!rm -r /content/dataset-resized/metal/\n",
        "!rm -r /content/dataset-resized/paper/\n",
        "!rm -r /content/dataset-resized/plastic/\n",
        "!rm -r /content/dataset-resized/trash/"
      ],
      "execution_count": 0,
      "outputs": []
    },
    {
      "cell_type": "code",
      "metadata": {
        "trusted": true,
        "id": "FLkUpBa4IBkY",
        "colab_type": "code",
        "colab": {}
      },
      "source": [
        "!ls -la /content/dataset-resized/"
      ],
      "execution_count": 0,
      "outputs": []
    },
    {
      "cell_type": "code",
      "metadata": {
        "trusted": true,
        "id": "6YPM0K1HIBkf",
        "colab_type": "code",
        "colab": {}
      },
      "source": [
        "!ls -v /content/dataset-resized/digestible/ | cat -n | while read n f; do mv -n \"/content/dataset-resized/digestible/$f\" \"/content/dataset-resized/digestible/digestible$n.jpg\"; done "
      ],
      "execution_count": 0,
      "outputs": []
    },
    {
      "cell_type": "code",
      "metadata": {
        "trusted": true,
        "id": "JdmTTT_jIBko",
        "colab_type": "code",
        "colab": {}
      },
      "source": [
        "!ls -v /content/dataset-resized/indigestible/ | cat -n | while read n f; do mv -n \"/content/dataset-resized/indigestible/$f\" \"/content/dataset-resized/indigestible/indigestible$n.jpg\"; done "
      ],
      "execution_count": 0,
      "outputs": []
    },
    {
      "cell_type": "markdown",
      "metadata": {
        "id": "jwckZw5RIBkt",
        "colab_type": "text"
      },
      "source": [
        "## 2. Organize images into different folders\n",
        "\n"
      ]
    },
    {
      "cell_type": "code",
      "metadata": {
        "trusted": true,
        "id": "djROz1cWIBku",
        "colab_type": "code",
        "colab": {}
      },
      "source": [
        "## helper functions ##\n",
        "\n",
        "## splits indices for a folder into train, validation, and test indices with random sampling\n",
        "    ## input: folder path\n",
        "    ## output: train, valid, and test indices    \n",
        "def split_indices(folder,seed1,seed2):    \n",
        "    n = len(os.listdir(folder))\n",
        "    full_set = list(range(1,n+1))\n",
        "\n",
        "    ## train indices\n",
        "    random.seed(seed1)\n",
        "    train = random.sample(list(range(1,n+1)),int(.8*n))\n",
        "\n",
        "    ## temp\n",
        "    remain = list(set(full_set)-set(train))\n",
        "\n",
        "    ## separate remaining into validation and test\n",
        "    random.seed(seed2)\n",
        "    valid = random.sample(remain,int(.5*len(remain)))\n",
        "    test = list(set(remain)-set(valid))\n",
        "    \n",
        "    return(train,valid,test)\n",
        "\n",
        "## gets file names for a particular type of trash, given indices\n",
        "    ## input: waste category and indices\n",
        "    ## output: file names \n",
        "def get_names(waste_type,indices):\n",
        "    file_names = [waste_type+str(i)+\".jpg\" for i in indices]\n",
        "    return(file_names)    \n",
        "\n",
        "## moves group of source files to another folder\n",
        "    ## input: list of source files and destination folder\n",
        "    ## no output\n",
        "def move_files(source_files,destination_folder):\n",
        "    for file in source_files:\n",
        "        shutil.move(file,destination_folder)"
      ],
      "execution_count": 0,
      "outputs": []
    },
    {
      "cell_type": "markdown",
      "metadata": {
        "id": "-4nSqDvMIBk1",
        "colab_type": "text"
      },
      "source": [
        "Next, I'm going to create a bunch of destination folders according to the ImageNet directory convention. It'll look like this:\n",
        "\n",
        "/data <br>\n",
        "&nbsp;&nbsp;&nbsp;&nbsp; /train <br>\n",
        "&nbsp;&nbsp;&nbsp;&nbsp;&nbsp;&nbsp;&nbsp;&nbsp;    /digestible <br>\n",
        "&nbsp;&nbsp;&nbsp;&nbsp;&nbsp;&nbsp;&nbsp;&nbsp;    /indigestible <br>\n",
        "&nbsp;&nbsp;&nbsp;&nbsp; /valid <br>\n",
        "&nbsp;&nbsp;&nbsp;&nbsp;&nbsp;&nbsp;&nbsp;&nbsp;    /digestible <br>\n",
        "&nbsp;&nbsp;&nbsp;&nbsp;&nbsp;&nbsp;&nbsp;&nbsp;    /indigestible <br>\n",
        "&nbsp;&nbsp;&nbsp;&nbsp;/test <br>\n",
        "\n",
        "Each image file is just the material name and a number (i.e. digestible1.jpg)\n",
        "\n",
        "Again, this is just housekeeping to organize my files."
      ]
    },
    {
      "cell_type": "code",
      "metadata": {
        "trusted": true,
        "id": "esYEojBKIBk2",
        "colab_type": "code",
        "colab": {}
      },
      "source": [
        "## paths will be train/cardboard, train/glass, etc...\n",
        "subsets = ['train','valid']\n",
        "waste_types = ['digestible','indigestible']\n",
        "\n",
        "## create destination folders for data subset and waste type\n",
        "for subset in subsets:\n",
        "    for waste_type in waste_types:\n",
        "        folder = os.path.join('data',subset,waste_type)\n",
        "        if not os.path.exists(folder):\n",
        "            os.makedirs(folder)\n",
        "            \n",
        "if not os.path.exists(os.path.join('data','test')):\n",
        "    os.makedirs(os.path.join('data','test'))\n",
        "            \n",
        "## move files to destination folders for each waste type\n",
        "for waste_type in waste_types:\n",
        "    source_folder = os.path.join('/content/dataset-resized',waste_type)\n",
        "    train_ind, valid_ind, test_ind = split_indices(source_folder,1,1)\n",
        "    \n",
        "    ## move source files to train\n",
        "    train_names = get_names(waste_type,train_ind)\n",
        "    train_source_files = [os.path.join(source_folder,name) for name in train_names]\n",
        "    train_dest = \"data/train/\"+waste_type\n",
        "    move_files(train_source_files,train_dest)\n",
        "    \n",
        "    ## move source files to valid\n",
        "    valid_names = get_names(waste_type,valid_ind)\n",
        "    valid_source_files = [os.path.join(source_folder,name) for name in valid_names]\n",
        "    valid_dest = \"data/valid/\"+waste_type\n",
        "    move_files(valid_source_files,valid_dest)\n",
        "    \n",
        "    ## move source files to test\n",
        "    test_names = get_names(waste_type,test_ind)\n",
        "    test_source_files = [os.path.join(source_folder,name) for name in test_names]\n",
        "    ## I use data/test here because the images can be mixed up\n",
        "    move_files(test_source_files,\"data/test\")"
      ],
      "execution_count": 0,
      "outputs": []
    },
    {
      "cell_type": "code",
      "metadata": {
        "trusted": true,
        "id": "aP2lutuzIBk9",
        "colab_type": "code",
        "colab": {}
      },
      "source": [
        "## get a path to the folder with images\n",
        "path = Path(os.getcwd())/\"data\"\n",
        "path"
      ],
      "execution_count": 0,
      "outputs": []
    },
    {
      "cell_type": "code",
      "metadata": {
        "trusted": true,
        "id": "EJA_4BU4IBlE",
        "colab_type": "code",
        "colab": {}
      },
      "source": [
        "tfms = get_transforms(do_flip=True,flip_vert=True)\n",
        "data = ImageDataBunch.from_folder(path,test=\"test\",ds_tfms=tfms,bs=16)"
      ],
      "execution_count": 0,
      "outputs": []
    },
    {
      "cell_type": "code",
      "metadata": {
        "trusted": true,
        "id": "uRgH1wZdIBlI",
        "colab_type": "code",
        "colab": {}
      },
      "source": [
        "data"
      ],
      "execution_count": 0,
      "outputs": []
    },
    {
      "cell_type": "code",
      "metadata": {
        "trusted": true,
        "id": "ZLjKnd5lIBlN",
        "colab_type": "code",
        "colab": {}
      },
      "source": [
        "print(data.classes)"
      ],
      "execution_count": 0,
      "outputs": []
    },
    {
      "cell_type": "code",
      "metadata": {
        "trusted": true,
        "id": "MICjd4E9IBlT",
        "colab_type": "code",
        "colab": {}
      },
      "source": [
        "data.show_batch(rows=4,figsize=(10,8))"
      ],
      "execution_count": 0,
      "outputs": []
    },
    {
      "cell_type": "markdown",
      "metadata": {
        "id": "aB08pcryIBlZ",
        "colab_type": "text"
      },
      "source": [
        "## 3. Model training"
      ]
    },
    {
      "cell_type": "code",
      "metadata": {
        "trusted": true,
        "id": "BsLQJlcaIBla",
        "colab_type": "code",
        "colab": {}
      },
      "source": [
        "learn = cnn_learner(data,models.resnet34,metrics=error_rate)"
      ],
      "execution_count": 0,
      "outputs": []
    },
    {
      "cell_type": "code",
      "metadata": {
        "trusted": true,
        "id": "LayCsUY7IBlh",
        "colab_type": "code",
        "colab": {}
      },
      "source": [
        "print(learn)"
      ],
      "execution_count": 0,
      "outputs": []
    },
    {
      "cell_type": "code",
      "metadata": {
        "trusted": true,
        "id": "28_x8KQBIBln",
        "colab_type": "code",
        "colab": {}
      },
      "source": [
        "from torchviz import make_dot, make_dot_from_trace\n",
        "from torch.autograd import Variable\n",
        "\n",
        "inputs = torch.randn(1,3,224,224)\n",
        "resnet34 = models.resnet34()\n",
        "y = resnet34(Variable(inputs))\n",
        "# print(y)\n",
        "\n",
        "dot = make_dot(y)\n",
        "dot.format = 'pdf'\n",
        "dot.render(\"struct\")"
      ],
      "execution_count": 0,
      "outputs": []
    },
    {
      "cell_type": "markdown",
      "metadata": {
        "id": "1RzVIDXyIBls",
        "colab_type": "text"
      },
      "source": [
        "### Finding a learning rate\n",
        "\n"
      ]
    },
    {
      "cell_type": "code",
      "metadata": {
        "id": "0bW4VrhXSQk9",
        "colab_type": "code",
        "colab": {}
      },
      "source": [
        "def find_appropriate_lr(model:Learner, lr_diff:int = 15, loss_threshold:float = .05, adjust_value:float = 1, plot:bool = True) -> float:\n",
        "    #Run the Learning Rate Finder\n",
        "    model.lr_find()\n",
        "    \n",
        "    #Get loss values and their corresponding gradients, and get lr values\n",
        "    losses = np.array(model.recorder.losses)\n",
        "    assert(lr_diff < len(losses))\n",
        "    loss_grad = np.gradient(losses)\n",
        "    lrs = model.recorder.lrs\n",
        "    \n",
        "    #Search for index in gradients where loss is lowest before the loss spike\n",
        "    #Initialize right and left idx using the lr_diff as a spacing unit\n",
        "    #Set the local min lr as -1 to signify if threshold is too low\n",
        "    r_idx = -1\n",
        "    l_idx = r_idx - lr_diff\n",
        "    while (l_idx >= -len(losses)) and (abs(loss_grad[r_idx] - loss_grad[l_idx]) > loss_threshold):\n",
        "        local_min_lr = lrs[l_idx]\n",
        "        r_idx -= 1\n",
        "        l_idx -= 1\n",
        "\n",
        "    lr_to_use = local_min_lr * adjust_value\n",
        "    \n",
        "    if plot:\n",
        "        # plots the gradients of the losses in respect to the learning rate change\n",
        "        plt.plot(loss_grad)\n",
        "        plt.plot(len(losses)+l_idx, loss_grad[l_idx],markersize=10,marker='o',color='red')\n",
        "        plt.ylabel(\"Loss\")\n",
        "        plt.xlabel(\"Index of LRs\")\n",
        "        plt.show()\n",
        "\n",
        "        plt.plot(np.log10(lrs), losses)\n",
        "        plt.ylabel(\"Loss\")\n",
        "        plt.xlabel(\"Log 10 Transform of Learning Rate\")\n",
        "        loss_coord = np.interp(np.log10(lr_to_use), np.log10(lrs), losses)\n",
        "        plt.plot(np.log10(lr_to_use), loss_coord, markersize=10,marker='o',color='red')\n",
        "        plt.show()\n",
        "        \n",
        "    return lr_to_use"
      ],
      "execution_count": 0,
      "outputs": []
    },
    {
      "cell_type": "code",
      "metadata": {
        "id": "ESm-haY4StPs",
        "colab_type": "code",
        "colab": {}
      },
      "source": [
        "sugesstion=find_appropriate_lr(learn)"
      ],
      "execution_count": 0,
      "outputs": []
    },
    {
      "cell_type": "markdown",
      "metadata": {
        "id": "89Ehj8VAYTTg",
        "colab_type": "text"
      },
      "source": [
        "learn.lr_find(start_lr=1e-6,end_lr=1e1)\n",
        "learn.recorder.plot()\n"
      ]
    },
    {
      "cell_type": "markdown",
      "metadata": {
        "id": "5a6hYzWpIBl5",
        "colab_type": "text"
      },
      "source": [
        "### Training"
      ]
    },
    {
      "cell_type": "code",
      "metadata": {
        "trusted": true,
        "id": "4ZExsyXSIBl6",
        "colab_type": "code",
        "colab": {}
      },
      "source": [
        "learn.fit_one_cycle(34,max_lr=sugesstion)"
      ],
      "execution_count": 0,
      "outputs": []
    },
    {
      "cell_type": "code",
      "metadata": {
        "trusted": true,
        "id": "-vXfGCb2IBl-",
        "colab_type": "code",
        "colab": {}
      },
      "source": [
        "learn.recorder.plot_lr()"
      ],
      "execution_count": 0,
      "outputs": []
    },
    {
      "cell_type": "code",
      "metadata": {
        "trusted": true,
        "id": "5tbaMQTBIBmC",
        "colab_type": "code",
        "colab": {}
      },
      "source": [
        "learn.recorder.plot_lr(show_moms=True)"
      ],
      "execution_count": 0,
      "outputs": []
    },
    {
      "cell_type": "code",
      "metadata": {
        "trusted": true,
        "id": "iJtccAcoIBmF",
        "colab_type": "code",
        "colab": {}
      },
      "source": [
        "learn.recorder.plot_losses()"
      ],
      "execution_count": 0,
      "outputs": []
    },
    {
      "cell_type": "code",
      "metadata": {
        "trusted": true,
        "id": "pyeG0BiJIBmL",
        "colab_type": "code",
        "colab": {}
      },
      "source": [
        "learn.recorder.plot_metrics()"
      ],
      "execution_count": 0,
      "outputs": []
    },
    {
      "cell_type": "code",
      "metadata": {
        "trusted": true,
        "id": "TkHjVmA3IBmP",
        "colab_type": "code",
        "colab": {}
      },
      "source": [
        "learn.save(\"trained_model\", return_path=True)"
      ],
      "execution_count": 0,
      "outputs": []
    },
    {
      "cell_type": "code",
      "metadata": {
        "trusted": true,
        "id": "5PBQuYpZIBmU",
        "colab_type": "code",
        "colab": {}
      },
      "source": [
        "!cp /content/data/models/trained_model.pth /content/"
      ],
      "execution_count": 0,
      "outputs": []
    },
    {
      "cell_type": "markdown",
      "metadata": {
        "id": "LUY-weDpIBmY",
        "colab_type": "text"
      },
      "source": [
        "### VIsualizing most incorrect images"
      ]
    },
    {
      "cell_type": "code",
      "metadata": {
        "trusted": true,
        "id": "wzg-ax3pIBmZ",
        "colab_type": "code",
        "colab": {}
      },
      "source": [
        "interp = ClassificationInterpretation.from_learner(learn)\n",
        "losses,idxs = interp.top_losses()"
      ],
      "execution_count": 0,
      "outputs": []
    },
    {
      "cell_type": "code",
      "metadata": {
        "trusted": true,
        "id": "GH6fAWXgIBmf",
        "colab_type": "code",
        "colab": {}
      },
      "source": [
        "interp.plot_top_losses(9, figsize=(15,11))"
      ],
      "execution_count": 0,
      "outputs": []
    },
    {
      "cell_type": "markdown",
      "metadata": {
        "id": "APYAo1X4IBmk",
        "colab_type": "text"
      },
      "source": [
        "The images here that the recycler performed poorly on were actually degraded. It looks the photos received too much exposure or something so this actually isn't a fault with the model!"
      ]
    },
    {
      "cell_type": "code",
      "metadata": {
        "trusted": true,
        "id": "HkIlIPx_IBmk",
        "colab_type": "code",
        "colab": {}
      },
      "source": [
        "doc(interp.plot_top_losses)\n",
        "interp.plot_confusion_matrix(figsize=(12,12), dpi=60)"
      ],
      "execution_count": 0,
      "outputs": []
    },
    {
      "cell_type": "markdown",
      "metadata": {
        "id": "RKr2zOTQIBmn",
        "colab_type": "text"
      },
      "source": [
        "This model often confused plastic for glass and confused metal. The list of most confused images is below."
      ]
    },
    {
      "cell_type": "code",
      "metadata": {
        "trusted": true,
        "id": "FOIY3UOjIBmo",
        "colab_type": "code",
        "colab": {}
      },
      "source": [
        "interp.most_confused(min_val=2)"
      ],
      "execution_count": 0,
      "outputs": []
    },
    {
      "cell_type": "markdown",
      "metadata": {
        "id": "vJq9Wa0IIBmr",
        "colab_type": "text"
      },
      "source": [
        "## 4. Make new predictions on test data\n"
      ]
    },
    {
      "cell_type": "code",
      "metadata": {
        "trusted": true,
        "id": "MJzighdnIBms",
        "colab_type": "code",
        "colab": {}
      },
      "source": [
        "preds = learn.get_preds(ds_type=DatasetType.Test)"
      ],
      "execution_count": 0,
      "outputs": []
    },
    {
      "cell_type": "code",
      "metadata": {
        "trusted": true,
        "id": "7vlccRtoIBmv",
        "colab_type": "code",
        "colab": {}
      },
      "source": [
        "print(preds[0].shape)\n",
        "preds[0]"
      ],
      "execution_count": 0,
      "outputs": []
    },
    {
      "cell_type": "code",
      "metadata": {
        "trusted": true,
        "id": "SMALXpOkIBmy",
        "colab_type": "code",
        "colab": {}
      },
      "source": [
        "data.classes"
      ],
      "execution_count": 0,
      "outputs": []
    },
    {
      "cell_type": "markdown",
      "metadata": {
        "id": "s63tsvv1IBm1",
        "colab_type": "text"
      },
      "source": [
        "Now I'm going to convert the probabilities in the tensor above to a string with one of the class names."
      ]
    },
    {
      "cell_type": "code",
      "metadata": {
        "trusted": true,
        "id": "1yEpec2iIBm1",
        "colab_type": "code",
        "colab": {}
      },
      "source": [
        "## saves the index (0 to 5) of most likely (max) predicted class for each image\n",
        "max_idxs = np.asarray(np.argmax(preds[0],axis=1))"
      ],
      "execution_count": 0,
      "outputs": []
    },
    {
      "cell_type": "code",
      "metadata": {
        "trusted": true,
        "id": "sxQO6z6XIBm5",
        "colab_type": "code",
        "colab": {}
      },
      "source": [
        "yhat = []\n",
        "for max_idx in max_idxs:\n",
        "    yhat.append(data.classes[max_idx])"
      ],
      "execution_count": 0,
      "outputs": []
    },
    {
      "cell_type": "code",
      "metadata": {
        "trusted": true,
        "id": "7cHxibBrIBm8",
        "colab_type": "code",
        "colab": {}
      },
      "source": [
        "yhat"
      ],
      "execution_count": 0,
      "outputs": []
    },
    {
      "cell_type": "markdown",
      "metadata": {
        "id": "oeGv58LnIBnA",
        "colab_type": "text"
      },
      "source": [
        "These are the predicted labels of all the images! Let's check if the first image is actually glass."
      ]
    },
    {
      "cell_type": "code",
      "metadata": {
        "trusted": true,
        "id": "hw5xE1YfIBnB",
        "colab_type": "code",
        "colab": {}
      },
      "source": [
        "learn.data.test_ds[0][0]"
      ],
      "execution_count": 0,
      "outputs": []
    },
    {
      "cell_type": "markdown",
      "metadata": {
        "id": "u4bRc9UqIBnF",
        "colab_type": "text"
      },
      "source": [
        "It is!"
      ]
    },
    {
      "cell_type": "markdown",
      "metadata": {
        "id": "4bGjk2rRIBnG",
        "colab_type": "text"
      },
      "source": [
        "Next, I'll get the actual labels from the test dataset."
      ]
    },
    {
      "cell_type": "code",
      "metadata": {
        "trusted": true,
        "id": "mG5zzyECIBnG",
        "colab_type": "code",
        "colab": {}
      },
      "source": [
        "y = []\n",
        "\n",
        "## convert POSIX paths to string first\n",
        "for label_path in data.test_ds.items:\n",
        "    y.append(str(label_path))\n",
        "    \n",
        "## then extract waste type from file path\n",
        "pattern = re.compile(\"([a-z]+)[0-9]+\")\n",
        "for i in range(len(y)):\n",
        "    y[i] = pattern.search(y[i]).group(1)"
      ],
      "execution_count": 0,
      "outputs": []
    },
    {
      "cell_type": "markdown",
      "metadata": {
        "id": "W4Ksr3FIIBnJ",
        "colab_type": "text"
      },
      "source": [
        "A quick check."
      ]
    },
    {
      "cell_type": "code",
      "metadata": {
        "trusted": true,
        "id": "jdvgtOG_IBnK",
        "colab_type": "code",
        "colab": {}
      },
      "source": [
        "## predicted values\n",
        "print(yhat[0:5])\n",
        "## actual values\n",
        "print(y[0:5])"
      ],
      "execution_count": 0,
      "outputs": []
    },
    {
      "cell_type": "code",
      "metadata": {
        "trusted": true,
        "id": "QtpSZ678IBnO",
        "colab_type": "code",
        "colab": {}
      },
      "source": [
        "learn.data.test_ds[0][0]"
      ],
      "execution_count": 0,
      "outputs": []
    },
    {
      "cell_type": "code",
      "metadata": {
        "trusted": true,
        "id": "T7Q7SbRGIBnR",
        "colab_type": "code",
        "colab": {}
      },
      "source": [
        "cm = confusion_matrix(y,yhat)\n",
        "print(cm)"
      ],
      "execution_count": 0,
      "outputs": []
    },
    {
      "cell_type": "markdown",
      "metadata": {
        "id": "lrzTr58PIBnX",
        "colab_type": "text"
      },
      "source": [
        "Let's try and make this matrix a little prettier."
      ]
    },
    {
      "cell_type": "code",
      "metadata": {
        "scrolled": false,
        "trusted": true,
        "id": "lo9ZmTNtIBnX",
        "colab_type": "code",
        "colab": {}
      },
      "source": [
        "df_cm = pd.DataFrame(cm,waste_types,waste_types)\n",
        "\n",
        "plt.figure(figsize=(10,8))\n",
        "sns.heatmap(df_cm,annot=True,fmt=\"d\",cmap=\"YlGnBu\")"
      ],
      "execution_count": 0,
      "outputs": []
    },
    {
      "cell_type": "markdown",
      "metadata": {
        "id": "TymyMWarIBnb",
        "colab_type": "text"
      },
      "source": [
        "Again, the model seems to have confused metal for glass and plastic for glass. With more time, I'm sure further investigation could help reduce these mistakes."
      ]
    },
    {
      "cell_type": "code",
      "metadata": {
        "trusted": true,
        "id": "wvgCwMbPIBne",
        "colab_type": "code",
        "colab": {}
      },
      "source": [
        "correct = 0\n",
        "\n",
        "for r in range(len(cm)):\n",
        "    for c in range(len(cm)):\n",
        "        if (r==c):\n",
        "            correct += cm[r,c]"
      ],
      "execution_count": 0,
      "outputs": []
    },
    {
      "cell_type": "code",
      "metadata": {
        "scrolled": true,
        "trusted": true,
        "id": "tmUlhk9pIBni",
        "colab_type": "code",
        "colab": {}
      },
      "source": [
        "accuracy = correct/sum(sum(cm))\n",
        "accuracy"
      ],
      "execution_count": 0,
      "outputs": []
    },
    {
      "cell_type": "code",
      "metadata": {
        "trusted": true,
        "id": "2c56R56HIBnl",
        "colab_type": "code",
        "colab": {}
      },
      "source": [
        "## delete everything when you're done to save space\n",
        "shutil.rmtree(\"data\")\n",
        "shutil.rmtree('dataset-resized')"
      ],
      "execution_count": 0,
      "outputs": []
    },
    {
      "cell_type": "code",
      "metadata": {
        "trusted": true,
        "id": "fyQ8vKhQIBnt",
        "colab_type": "code",
        "colab": {}
      },
      "source": [
        "!ls -la"
      ],
      "execution_count": 0,
      "outputs": []
    },
    {
      "cell_type": "code",
      "metadata": {
        "trusted": true,
        "id": "fw3uvOycIBoH",
        "colab_type": "code",
        "colab": {}
      },
      "source": [
        "!date"
      ],
      "execution_count": 0,
      "outputs": []
    }
  ]
}